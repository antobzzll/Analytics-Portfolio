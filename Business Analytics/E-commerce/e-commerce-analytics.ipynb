{
 "cells": [
  {
   "cell_type": "markdown",
   "metadata": {},
   "source": [
    "<font size='6'><b>E-commerce Analytics</b></font><br><br>\n",
    "<font size='6'>Customer Clustering & Market Basket Analysis</font><br><br>\n",
    "\n",
    "<font size='4'>Antonio Buzzelli</font><br>\n",
    "<font size='4'>March 2023</font>\n",
    "\n",
    "Dataset: https://www.kaggle.com/datasets/gabrielramos87/an-online-shop-business?sort=published\n"
   ]
  },
  {
   "cell_type": "code",
   "execution_count": 1,
   "metadata": {
    "_cell_guid": "b1076dfc-b9ad-4769-8c92-a6c4dae69d19",
    "_uuid": "8f2839f25d086af736a60e9eeb907d3b93b6e0e5"
   },
   "outputs": [],
   "source": [
    "import numpy as np\n",
    "import pandas as pd\n",
    "\n",
    "import matplotlib.pyplot as plt\n",
    "import seaborn as sns"
   ]
  },
  {
   "cell_type": "markdown",
   "metadata": {},
   "source": [
    "\n",
    "# Data: exploration & transformation\n"
   ]
  },
  {
   "cell_type": "code",
   "execution_count": 2,
   "metadata": {},
   "outputs": [
    {
     "name": "stdout",
     "output_type": "stream",
     "text": [
      "<class 'pandas.core.frame.DataFrame'>\n",
      "RangeIndex: 536350 entries, 0 to 536349\n",
      "Data columns (total 8 columns):\n",
      " #   Column         Non-Null Count   Dtype  \n",
      "---  ------         --------------   -----  \n",
      " 0   TransactionNo  536350 non-null  object \n",
      " 1   Date           536350 non-null  object \n",
      " 2   ProductNo      536350 non-null  object \n",
      " 3   ProductName    536350 non-null  object \n",
      " 4   Price          536350 non-null  float64\n",
      " 5   Quantity       536350 non-null  int64  \n",
      " 6   CustomerNo     536295 non-null  float64\n",
      " 7   Country        536350 non-null  object \n",
      "dtypes: float64(2), int64(1), object(5)\n",
      "memory usage: 32.7+ MB\n"
     ]
    }
   ],
   "source": [
    "df = pd.read_csv('sales.csv')\n",
    "df.info()"
   ]
  },
  {
   "cell_type": "code",
   "execution_count": 3,
   "metadata": {},
   "outputs": [
    {
     "data": {
      "text/html": [
       "<div>\n",
       "<style scoped>\n",
       "    .dataframe tbody tr th:only-of-type {\n",
       "        vertical-align: middle;\n",
       "    }\n",
       "\n",
       "    .dataframe tbody tr th {\n",
       "        vertical-align: top;\n",
       "    }\n",
       "\n",
       "    .dataframe thead th {\n",
       "        text-align: right;\n",
       "    }\n",
       "</style>\n",
       "<table border=\"1\" class=\"dataframe\">\n",
       "  <thead>\n",
       "    <tr style=\"text-align: right;\">\n",
       "      <th></th>\n",
       "      <th>TransactionNo</th>\n",
       "      <th>Date</th>\n",
       "      <th>ProductNo</th>\n",
       "      <th>ProductName</th>\n",
       "      <th>Price</th>\n",
       "      <th>Quantity</th>\n",
       "      <th>CustomerNo</th>\n",
       "      <th>Country</th>\n",
       "    </tr>\n",
       "  </thead>\n",
       "  <tbody>\n",
       "    <tr>\n",
       "      <th>0</th>\n",
       "      <td>581482</td>\n",
       "      <td>12/9/2019</td>\n",
       "      <td>22485</td>\n",
       "      <td>Set Of 2 Wooden Market Crates</td>\n",
       "      <td>21.47</td>\n",
       "      <td>12</td>\n",
       "      <td>17490.0</td>\n",
       "      <td>United Kingdom</td>\n",
       "    </tr>\n",
       "    <tr>\n",
       "      <th>1</th>\n",
       "      <td>581475</td>\n",
       "      <td>12/9/2019</td>\n",
       "      <td>22596</td>\n",
       "      <td>Christmas Star Wish List Chalkboard</td>\n",
       "      <td>10.65</td>\n",
       "      <td>36</td>\n",
       "      <td>13069.0</td>\n",
       "      <td>United Kingdom</td>\n",
       "    </tr>\n",
       "    <tr>\n",
       "      <th>2</th>\n",
       "      <td>581475</td>\n",
       "      <td>12/9/2019</td>\n",
       "      <td>23235</td>\n",
       "      <td>Storage Tin Vintage Leaf</td>\n",
       "      <td>11.53</td>\n",
       "      <td>12</td>\n",
       "      <td>13069.0</td>\n",
       "      <td>United Kingdom</td>\n",
       "    </tr>\n",
       "    <tr>\n",
       "      <th>3</th>\n",
       "      <td>581475</td>\n",
       "      <td>12/9/2019</td>\n",
       "      <td>23272</td>\n",
       "      <td>Tree T-Light Holder Willie Winkie</td>\n",
       "      <td>10.65</td>\n",
       "      <td>12</td>\n",
       "      <td>13069.0</td>\n",
       "      <td>United Kingdom</td>\n",
       "    </tr>\n",
       "    <tr>\n",
       "      <th>4</th>\n",
       "      <td>581475</td>\n",
       "      <td>12/9/2019</td>\n",
       "      <td>23239</td>\n",
       "      <td>Set Of 4 Knick Knack Tins Poppies</td>\n",
       "      <td>11.94</td>\n",
       "      <td>6</td>\n",
       "      <td>13069.0</td>\n",
       "      <td>United Kingdom</td>\n",
       "    </tr>\n",
       "    <tr>\n",
       "      <th>...</th>\n",
       "      <td>...</td>\n",
       "      <td>...</td>\n",
       "      <td>...</td>\n",
       "      <td>...</td>\n",
       "      <td>...</td>\n",
       "      <td>...</td>\n",
       "      <td>...</td>\n",
       "      <td>...</td>\n",
       "    </tr>\n",
       "    <tr>\n",
       "      <th>536345</th>\n",
       "      <td>C536548</td>\n",
       "      <td>12/1/2018</td>\n",
       "      <td>22168</td>\n",
       "      <td>Organiser Wood Antique White</td>\n",
       "      <td>18.96</td>\n",
       "      <td>-2</td>\n",
       "      <td>12472.0</td>\n",
       "      <td>Germany</td>\n",
       "    </tr>\n",
       "    <tr>\n",
       "      <th>536346</th>\n",
       "      <td>C536548</td>\n",
       "      <td>12/1/2018</td>\n",
       "      <td>21218</td>\n",
       "      <td>Red Spotty Biscuit Tin</td>\n",
       "      <td>14.09</td>\n",
       "      <td>-3</td>\n",
       "      <td>12472.0</td>\n",
       "      <td>Germany</td>\n",
       "    </tr>\n",
       "    <tr>\n",
       "      <th>536347</th>\n",
       "      <td>C536548</td>\n",
       "      <td>12/1/2018</td>\n",
       "      <td>20957</td>\n",
       "      <td>Porcelain Hanging Bell Small</td>\n",
       "      <td>11.74</td>\n",
       "      <td>-1</td>\n",
       "      <td>12472.0</td>\n",
       "      <td>Germany</td>\n",
       "    </tr>\n",
       "    <tr>\n",
       "      <th>536348</th>\n",
       "      <td>C536548</td>\n",
       "      <td>12/1/2018</td>\n",
       "      <td>22580</td>\n",
       "      <td>Advent Calendar Gingham Sack</td>\n",
       "      <td>16.35</td>\n",
       "      <td>-4</td>\n",
       "      <td>12472.0</td>\n",
       "      <td>Germany</td>\n",
       "    </tr>\n",
       "    <tr>\n",
       "      <th>536349</th>\n",
       "      <td>C536548</td>\n",
       "      <td>12/1/2018</td>\n",
       "      <td>22767</td>\n",
       "      <td>Triple Photo Frame Cornice</td>\n",
       "      <td>20.45</td>\n",
       "      <td>-2</td>\n",
       "      <td>12472.0</td>\n",
       "      <td>Germany</td>\n",
       "    </tr>\n",
       "  </tbody>\n",
       "</table>\n",
       "<p>536350 rows × 8 columns</p>\n",
       "</div>"
      ],
      "text/plain": [
       "       TransactionNo       Date ProductNo  \\\n",
       "0             581482  12/9/2019     22485   \n",
       "1             581475  12/9/2019     22596   \n",
       "2             581475  12/9/2019     23235   \n",
       "3             581475  12/9/2019     23272   \n",
       "4             581475  12/9/2019     23239   \n",
       "...              ...        ...       ...   \n",
       "536345       C536548  12/1/2018     22168   \n",
       "536346       C536548  12/1/2018     21218   \n",
       "536347       C536548  12/1/2018     20957   \n",
       "536348       C536548  12/1/2018     22580   \n",
       "536349       C536548  12/1/2018     22767   \n",
       "\n",
       "                                ProductName  Price  Quantity  CustomerNo  \\\n",
       "0             Set Of 2 Wooden Market Crates  21.47        12     17490.0   \n",
       "1       Christmas Star Wish List Chalkboard  10.65        36     13069.0   \n",
       "2                  Storage Tin Vintage Leaf  11.53        12     13069.0   \n",
       "3         Tree T-Light Holder Willie Winkie  10.65        12     13069.0   \n",
       "4         Set Of 4 Knick Knack Tins Poppies  11.94         6     13069.0   \n",
       "...                                     ...    ...       ...         ...   \n",
       "536345         Organiser Wood Antique White  18.96        -2     12472.0   \n",
       "536346               Red Spotty Biscuit Tin  14.09        -3     12472.0   \n",
       "536347         Porcelain Hanging Bell Small  11.74        -1     12472.0   \n",
       "536348         Advent Calendar Gingham Sack  16.35        -4     12472.0   \n",
       "536349           Triple Photo Frame Cornice  20.45        -2     12472.0   \n",
       "\n",
       "               Country  \n",
       "0       United Kingdom  \n",
       "1       United Kingdom  \n",
       "2       United Kingdom  \n",
       "3       United Kingdom  \n",
       "4       United Kingdom  \n",
       "...                ...  \n",
       "536345         Germany  \n",
       "536346         Germany  \n",
       "536347         Germany  \n",
       "536348         Germany  \n",
       "536349         Germany  \n",
       "\n",
       "[536350 rows x 8 columns]"
      ]
     },
     "execution_count": 3,
     "metadata": {},
     "output_type": "execute_result"
    }
   ],
   "source": [
    "df"
   ]
  },
  {
   "cell_type": "markdown",
   "metadata": {},
   "source": [
    "* TransactionNo (categorical): a six-digit unique number that defines each transaction. The letter “C” in the code indicates a cancellation.\n",
    "* Date (numeric): the date when each transaction was generated.\n",
    "* ProductNo (categorical): a five or six-digit unique character used to identify a specific product.\n",
    "* Product (categorical): product/item name.\n",
    "* Price (numeric): the price of each product per unit in pound sterling (£).\n",
    "* Quantity (numeric): the quantity of each product per transaction. Negative values related to cancelled transactions.\n",
    "* CustomerNo (categorical): a five-digit unique number that defines each customer.\n",
    "* Country (categorical): name of the country where the customer resides."
   ]
  },
  {
   "cell_type": "code",
   "execution_count": 4,
   "metadata": {},
   "outputs": [],
   "source": [
    "# Validating variable types\n",
    "df['Date'] = pd.to_datetime(df['Date'])\n",
    "df[['ProductNo', 'CustomerNo']] = df[['ProductNo', 'CustomerNo']].astype('object')\n",
    "\n",
    "# Creating a `TotalPrice` colum\n",
    "df['Amount'] = df['Quantity'] * df['Price']"
   ]
  },
  {
   "cell_type": "markdown",
   "metadata": {},
   "source": [
    "## Returns\n",
    "\n",
    "The most notable characteristic of this dataset is the presence of *returns*, represented by negative values in the `Quantity` variable. In this section we are going to gain insights on this feature to understand how to deal with it for further analysis."
   ]
  },
  {
   "cell_type": "code",
   "execution_count": 5,
   "metadata": {},
   "outputs": [
    {
     "name": "stdout",
     "output_type": "stream",
     "text": [
      "Percentage of products sold within a broader order: 0.043262794816817385\n"
     ]
    }
   ],
   "source": [
    "# We create a boolean variable to identify if a product is returned or not\n",
    "df['Return'] = np.where(df['Quantity'] < 0, 1, 0)\n",
    "\n",
    "# Create a boolean variable to show if the product is within a broader order or not\n",
    "df['SingleOrder'] = df.duplicated('TransactionNo').astype(int)\n",
    "print(f\"Percentage of products sold within a broader order: {1 - sum(df['SingleOrder']) / df.shape[0]}\")\n",
    "\n",
    "# Creating another `TotalPrice` column that takes into consideration returns (represented by -n values in the `Quantity` column).\n",
    "df['AmountN'] = np.where(df['Amount'] < 0, 0, df['Amount'])"
   ]
  },
  {
   "cell_type": "markdown",
   "metadata": {},
   "source": [
    "Do returned products (return-labelled observations) come in specific transactions or are they mixed with non-returned products? "
   ]
  },
  {
   "cell_type": "code",
   "execution_count": 6,
   "metadata": {},
   "outputs": [
    {
     "data": {
      "text/html": [
       "<div>\n",
       "<style scoped>\n",
       "    .dataframe tbody tr th:only-of-type {\n",
       "        vertical-align: middle;\n",
       "    }\n",
       "\n",
       "    .dataframe tbody tr th {\n",
       "        vertical-align: top;\n",
       "    }\n",
       "\n",
       "    .dataframe thead th {\n",
       "        text-align: right;\n",
       "    }\n",
       "</style>\n",
       "<table border=\"1\" class=\"dataframe\">\n",
       "  <thead>\n",
       "    <tr style=\"text-align: right;\">\n",
       "      <th></th>\n",
       "      <th>TransactionNo</th>\n",
       "      <th>Date</th>\n",
       "      <th>ProductNo</th>\n",
       "      <th>ProductName</th>\n",
       "      <th>Price</th>\n",
       "      <th>Quantity</th>\n",
       "      <th>CustomerNo</th>\n",
       "      <th>Country</th>\n",
       "      <th>Amount</th>\n",
       "      <th>Return</th>\n",
       "      <th>SingleOrder</th>\n",
       "      <th>AmountN</th>\n",
       "    </tr>\n",
       "  </thead>\n",
       "  <tbody>\n",
       "  </tbody>\n",
       "</table>\n",
       "</div>"
      ],
      "text/plain": [
       "Empty DataFrame\n",
       "Columns: [TransactionNo, Date, ProductNo, ProductName, Price, Quantity, CustomerNo, Country, Amount, Return, SingleOrder, AmountN]\n",
       "Index: []"
      ]
     },
     "execution_count": 6,
     "metadata": {},
     "output_type": "execute_result"
    }
   ],
   "source": [
    "transactionReturned = df.loc[df['Return'] == 1, 'TransactionNo']\n",
    "df[(df['Return'] == 0) & (df['TransactionNo'].isin(transactionReturned))]"
   ]
  },
  {
   "cell_type": "markdown",
   "metadata": {},
   "source": [
    "Returned products have specific transaction IDs (`TransactionNo`).\n",
    "\n",
    "Do all returned-labelled observations begin with the letter 'C'?"
   ]
  },
  {
   "cell_type": "code",
   "execution_count": 7,
   "metadata": {},
   "outputs": [
    {
     "data": {
      "text/plain": [
       "True"
      ]
     },
     "execution_count": 7,
     "metadata": {},
     "output_type": "execute_result"
    }
   ],
   "source": [
    "np.all(np.char.startswith(transactionReturned.unique().astype(str), 'C'))"
   ]
  },
  {
   "cell_type": "markdown",
   "metadata": {},
   "source": [
    "Comparing the total number of observations in which `TransactionNo` starts with 'C' with the total number of observations that have been precedently labelled as \"returns\":"
   ]
  },
  {
   "cell_type": "code",
   "execution_count": 8,
   "metadata": {},
   "outputs": [
    {
     "name": "stdout",
     "output_type": "stream",
     "text": [
      "8585\n",
      "8585\n"
     ]
    }
   ],
   "source": [
    "return2 = np.where(df['TransactionNo'].str.startswith('C'), 1, 0)\n",
    "print(df['Return'].sum())\n",
    "print(return2.sum())"
   ]
  },
  {
   "cell_type": "code",
   "execution_count": 9,
   "metadata": {},
   "outputs": [
    {
     "data": {
      "text/html": [
       "<div>\n",
       "<style scoped>\n",
       "    .dataframe tbody tr th:only-of-type {\n",
       "        vertical-align: middle;\n",
       "    }\n",
       "\n",
       "    .dataframe tbody tr th {\n",
       "        vertical-align: top;\n",
       "    }\n",
       "\n",
       "    .dataframe thead th {\n",
       "        text-align: right;\n",
       "    }\n",
       "</style>\n",
       "<table border=\"1\" class=\"dataframe\">\n",
       "  <thead>\n",
       "    <tr style=\"text-align: right;\">\n",
       "      <th></th>\n",
       "      <th>TransactionNo</th>\n",
       "      <th>Date</th>\n",
       "      <th>ProductNo</th>\n",
       "      <th>ProductName</th>\n",
       "      <th>Price</th>\n",
       "      <th>Quantity</th>\n",
       "      <th>CustomerNo</th>\n",
       "      <th>Country</th>\n",
       "      <th>Amount</th>\n",
       "      <th>Return</th>\n",
       "      <th>SingleOrder</th>\n",
       "      <th>AmountN</th>\n",
       "    </tr>\n",
       "  </thead>\n",
       "  <tbody>\n",
       "  </tbody>\n",
       "</table>\n",
       "</div>"
      ],
      "text/plain": [
       "Empty DataFrame\n",
       "Columns: [TransactionNo, Date, ProductNo, ProductName, Price, Quantity, CustomerNo, Country, Amount, Return, SingleOrder, AmountN]\n",
       "Index: []"
      ]
     },
     "execution_count": 9,
     "metadata": {},
     "output_type": "execute_result"
    }
   ],
   "source": [
    "transno_c = df[df['TransactionNo'].str.slice(0, 1) == 'C']['TransactionNo'].str.slice(1)\n",
    "df[df['TransactionNo'].isin(transno_c)]"
   ]
  },
  {
   "cell_type": "markdown",
   "metadata": {},
   "source": [
    "Transaction IDs for returned products are different from the IDs of non-returned products, and they begin with letter 'C'."
   ]
  },
  {
   "cell_type": "markdown",
   "metadata": {},
   "source": [
    "## Missing values"
   ]
  },
  {
   "cell_type": "code",
   "execution_count": 10,
   "metadata": {},
   "outputs": [
    {
     "data": {
      "text/plain": [
       "CustomerNo       0.000103\n",
       "TransactionNo    0.000000\n",
       "Date             0.000000\n",
       "ProductNo        0.000000\n",
       "ProductName      0.000000\n",
       "Price            0.000000\n",
       "Quantity         0.000000\n",
       "Country          0.000000\n",
       "Amount           0.000000\n",
       "Return           0.000000\n",
       "SingleOrder      0.000000\n",
       "AmountN          0.000000\n",
       "dtype: float64"
      ]
     },
     "execution_count": 10,
     "metadata": {},
     "output_type": "execute_result"
    }
   ],
   "source": [
    "(df.isnull().sum() / df.shape[0]).sort_values(ascending=False)"
   ]
  },
  {
   "cell_type": "code",
   "execution_count": 11,
   "metadata": {
    "scrolled": true
   },
   "outputs": [
    {
     "data": {
      "text/html": [
       "<div>\n",
       "<style scoped>\n",
       "    .dataframe tbody tr th:only-of-type {\n",
       "        vertical-align: middle;\n",
       "    }\n",
       "\n",
       "    .dataframe tbody tr th {\n",
       "        vertical-align: top;\n",
       "    }\n",
       "\n",
       "    .dataframe thead th {\n",
       "        text-align: right;\n",
       "    }\n",
       "</style>\n",
       "<table border=\"1\" class=\"dataframe\">\n",
       "  <thead>\n",
       "    <tr style=\"text-align: right;\">\n",
       "      <th></th>\n",
       "      <th>TransactionNo</th>\n",
       "      <th>Date</th>\n",
       "      <th>ProductNo</th>\n",
       "      <th>ProductName</th>\n",
       "      <th>Price</th>\n",
       "      <th>Quantity</th>\n",
       "      <th>CustomerNo</th>\n",
       "      <th>Country</th>\n",
       "      <th>Amount</th>\n",
       "      <th>Return</th>\n",
       "      <th>SingleOrder</th>\n",
       "      <th>AmountN</th>\n",
       "    </tr>\n",
       "  </thead>\n",
       "  <tbody>\n",
       "    <tr>\n",
       "      <th>6511</th>\n",
       "      <td>C581406</td>\n",
       "      <td>2019-12-08</td>\n",
       "      <td>46000M</td>\n",
       "      <td>Polyester Filler Pad 45x45cm</td>\n",
       "      <td>6.19</td>\n",
       "      <td>-240</td>\n",
       "      <td>NaN</td>\n",
       "      <td>United Kingdom</td>\n",
       "      <td>-1485.60</td>\n",
       "      <td>1</td>\n",
       "      <td>0</td>\n",
       "      <td>0.0</td>\n",
       "    </tr>\n",
       "    <tr>\n",
       "      <th>6512</th>\n",
       "      <td>C581406</td>\n",
       "      <td>2019-12-08</td>\n",
       "      <td>46000S</td>\n",
       "      <td>Polyester Filler Pad 40x40cm</td>\n",
       "      <td>6.19</td>\n",
       "      <td>-300</td>\n",
       "      <td>NaN</td>\n",
       "      <td>United Kingdom</td>\n",
       "      <td>-1857.00</td>\n",
       "      <td>1</td>\n",
       "      <td>1</td>\n",
       "      <td>0.0</td>\n",
       "    </tr>\n",
       "    <tr>\n",
       "      <th>90098</th>\n",
       "      <td>C575153</td>\n",
       "      <td>2019-11-08</td>\n",
       "      <td>22947</td>\n",
       "      <td>Wooden Advent Calendar Red</td>\n",
       "      <td>44.25</td>\n",
       "      <td>-1</td>\n",
       "      <td>NaN</td>\n",
       "      <td>United Kingdom</td>\n",
       "      <td>-44.25</td>\n",
       "      <td>1</td>\n",
       "      <td>0</td>\n",
       "      <td>0.0</td>\n",
       "    </tr>\n",
       "    <tr>\n",
       "      <th>102671</th>\n",
       "      <td>C574288</td>\n",
       "      <td>2019-11-03</td>\n",
       "      <td>22178</td>\n",
       "      <td>Victorian Glass Hanging T-Light</td>\n",
       "      <td>25.37</td>\n",
       "      <td>-1</td>\n",
       "      <td>NaN</td>\n",
       "      <td>United Kingdom</td>\n",
       "      <td>-25.37</td>\n",
       "      <td>1</td>\n",
       "      <td>0</td>\n",
       "      <td>0.0</td>\n",
       "    </tr>\n",
       "    <tr>\n",
       "      <th>117263</th>\n",
       "      <td>C573180</td>\n",
       "      <td>2019-10-28</td>\n",
       "      <td>23048</td>\n",
       "      <td>Set Of 10 Lanterns Fairy Light Star</td>\n",
       "      <td>14.50</td>\n",
       "      <td>-1</td>\n",
       "      <td>NaN</td>\n",
       "      <td>United Kingdom</td>\n",
       "      <td>-14.50</td>\n",
       "      <td>1</td>\n",
       "      <td>0</td>\n",
       "      <td>0.0</td>\n",
       "    </tr>\n",
       "  </tbody>\n",
       "</table>\n",
       "</div>"
      ],
      "text/plain": [
       "       TransactionNo       Date ProductNo  \\\n",
       "6511         C581406 2019-12-08    46000M   \n",
       "6512         C581406 2019-12-08    46000S   \n",
       "90098        C575153 2019-11-08     22947   \n",
       "102671       C574288 2019-11-03     22178   \n",
       "117263       C573180 2019-10-28     23048   \n",
       "\n",
       "                                ProductName  Price  Quantity CustomerNo  \\\n",
       "6511           Polyester Filler Pad 45x45cm   6.19      -240        NaN   \n",
       "6512           Polyester Filler Pad 40x40cm   6.19      -300        NaN   \n",
       "90098            Wooden Advent Calendar Red  44.25        -1        NaN   \n",
       "102671      Victorian Glass Hanging T-Light  25.37        -1        NaN   \n",
       "117263  Set Of 10 Lanterns Fairy Light Star  14.50        -1        NaN   \n",
       "\n",
       "               Country   Amount  Return  SingleOrder  AmountN  \n",
       "6511    United Kingdom -1485.60       1            0      0.0  \n",
       "6512    United Kingdom -1857.00       1            1      0.0  \n",
       "90098   United Kingdom   -44.25       1            0      0.0  \n",
       "102671  United Kingdom   -25.37       1            0      0.0  \n",
       "117263  United Kingdom   -14.50       1            0      0.0  "
      ]
     },
     "execution_count": 11,
     "metadata": {},
     "output_type": "execute_result"
    }
   ],
   "source": [
    "nulls = df[df['CustomerNo'].isnull()]\n",
    "nulls.head()"
   ]
  },
  {
   "cell_type": "code",
   "execution_count": 12,
   "metadata": {},
   "outputs": [
    {
     "data": {
      "text/plain": [
       "1    54\n",
       "0     1\n",
       "Name: Return, dtype: int64"
      ]
     },
     "execution_count": 12,
     "metadata": {},
     "output_type": "execute_result"
    }
   ],
   "source": [
    "nulls['Return'].value_counts()"
   ]
  },
  {
   "cell_type": "markdown",
   "metadata": {},
   "source": [
    "Only `CustomerNo` variable has null vaues. They are most probably due to mistakes in data collection. Dropping them would be a mistake because we would loose account for those returned items."
   ]
  },
  {
   "cell_type": "markdown",
   "metadata": {},
   "source": [
    "# Exploratory analysis\n",
    "## Evolution of volume of sales"
   ]
  },
  {
   "cell_type": "code",
   "execution_count": 77,
   "metadata": {},
   "outputs": [
    {
     "data": {
      "text/html": [
       "<div>\n",
       "<style scoped>\n",
       "    .dataframe tbody tr th:only-of-type {\n",
       "        vertical-align: middle;\n",
       "    }\n",
       "\n",
       "    .dataframe tbody tr th {\n",
       "        vertical-align: top;\n",
       "    }\n",
       "\n",
       "    .dataframe thead th {\n",
       "        text-align: right;\n",
       "    }\n",
       "</style>\n",
       "<table border=\"1\" class=\"dataframe\">\n",
       "  <thead>\n",
       "    <tr style=\"text-align: right;\">\n",
       "      <th></th>\n",
       "      <th>sold</th>\n",
       "      <th>returned</th>\n",
       "      <th>nunique</th>\n",
       "      <th>sold_moving_avg</th>\n",
       "    </tr>\n",
       "  </thead>\n",
       "  <tbody>\n",
       "    <tr>\n",
       "      <th>2018-12-31</th>\n",
       "      <td>4234147.48</td>\n",
       "      <td>181268.04</td>\n",
       "      <td>1852</td>\n",
       "      <td>NaN</td>\n",
       "    </tr>\n",
       "    <tr>\n",
       "      <th>2019-01-31</th>\n",
       "      <td>3649506.42</td>\n",
       "      <td>910349.95</td>\n",
       "      <td>1327</td>\n",
       "      <td>NaN</td>\n",
       "    </tr>\n",
       "    <tr>\n",
       "      <th>2019-02-28</th>\n",
       "      <td>3299537.56</td>\n",
       "      <td>35479.62</td>\n",
       "      <td>1287</td>\n",
       "      <td>3.727730e+06</td>\n",
       "    </tr>\n",
       "    <tr>\n",
       "      <th>2019-03-31</th>\n",
       "      <td>4353308.78</td>\n",
       "      <td>45092.82</td>\n",
       "      <td>1722</td>\n",
       "      <td>3.767451e+06</td>\n",
       "    </tr>\n",
       "    <tr>\n",
       "      <th>2019-04-30</th>\n",
       "      <td>3416109.24</td>\n",
       "      <td>173388.64</td>\n",
       "      <td>1455</td>\n",
       "      <td>3.689652e+06</td>\n",
       "    </tr>\n",
       "    <tr>\n",
       "      <th>2019-05-31</th>\n",
       "      <td>4530850.36</td>\n",
       "      <td>48114.72</td>\n",
       "      <td>1938</td>\n",
       "      <td>4.100089e+06</td>\n",
       "    </tr>\n",
       "    <tr>\n",
       "      <th>2019-06-30</th>\n",
       "      <td>4410422.29</td>\n",
       "      <td>84308.52</td>\n",
       "      <td>1826</td>\n",
       "      <td>4.119127e+06</td>\n",
       "    </tr>\n",
       "    <tr>\n",
       "      <th>2019-07-31</th>\n",
       "      <td>4518347.92</td>\n",
       "      <td>75519.14</td>\n",
       "      <td>1687</td>\n",
       "      <td>4.486540e+06</td>\n",
       "    </tr>\n",
       "    <tr>\n",
       "      <th>2019-08-31</th>\n",
       "      <td>4614243.55</td>\n",
       "      <td>144112.47</td>\n",
       "      <td>1581</td>\n",
       "      <td>4.514338e+06</td>\n",
       "    </tr>\n",
       "    <tr>\n",
       "      <th>2019-09-30</th>\n",
       "      <td>6542706.30</td>\n",
       "      <td>85596.76</td>\n",
       "      <td>2117</td>\n",
       "      <td>5.225099e+06</td>\n",
       "    </tr>\n",
       "    <tr>\n",
       "      <th>2019-10-31</th>\n",
       "      <td>6971407.82</td>\n",
       "      <td>266009.54</td>\n",
       "      <td>2312</td>\n",
       "      <td>6.042786e+06</td>\n",
       "    </tr>\n",
       "    <tr>\n",
       "      <th>2019-11-30</th>\n",
       "      <td>7745257.92</td>\n",
       "      <td>115939.20</td>\n",
       "      <td>3146</td>\n",
       "      <td>7.086457e+06</td>\n",
       "    </tr>\n",
       "    <tr>\n",
       "      <th>2019-12-31</th>\n",
       "      <td>1994178.62</td>\n",
       "      <td>520770.66</td>\n",
       "      <td>954</td>\n",
       "      <td>5.570281e+06</td>\n",
       "    </tr>\n",
       "  </tbody>\n",
       "</table>\n",
       "</div>"
      ],
      "text/plain": [
       "                  sold   returned  nunique  sold_moving_avg\n",
       "2018-12-31  4234147.48  181268.04     1852              NaN\n",
       "2019-01-31  3649506.42  910349.95     1327              NaN\n",
       "2019-02-28  3299537.56   35479.62     1287     3.727730e+06\n",
       "2019-03-31  4353308.78   45092.82     1722     3.767451e+06\n",
       "2019-04-30  3416109.24  173388.64     1455     3.689652e+06\n",
       "2019-05-31  4530850.36   48114.72     1938     4.100089e+06\n",
       "2019-06-30  4410422.29   84308.52     1826     4.119127e+06\n",
       "2019-07-31  4518347.92   75519.14     1687     4.486540e+06\n",
       "2019-08-31  4614243.55  144112.47     1581     4.514338e+06\n",
       "2019-09-30  6542706.30   85596.76     2117     5.225099e+06\n",
       "2019-10-31  6971407.82  266009.54     2312     6.042786e+06\n",
       "2019-11-30  7745257.92  115939.20     3146     7.086457e+06\n",
       "2019-12-31  1994178.62  520770.66      954     5.570281e+06"
      ]
     },
     "execution_count": 77,
     "metadata": {},
     "output_type": "execute_result"
    }
   ],
   "source": [
    "bymonth = df.groupby(pd.Grouper(key='Date', freq='M')).agg(\n",
    "    sold=('Amount','sum'), returned=('Amount', lambda x: sum(x[x < 0])),\n",
    "    nunique=('TransactionNo', 'nunique')\n",
    "    )\n",
    "bymonth['sold_moving_avg'] = bymonth['sold'].rolling(window=3).mean()\n",
    "bymonth['returned'] = bymonth['returned'].abs()\n",
    "bymonth.index = bymonth.index.date\n",
    "bymonth"
   ]
  },
  {
   "cell_type": "code",
   "execution_count": 108,
   "metadata": {},
   "outputs": [
    {
     "data": {
      "image/png": "[encoded data removed]",
      "text/plain": [
       "<Figure size 1500x500 with 1 Axes>"
      ]
     },
     "metadata": {},
     "output_type": "display_data"
    }
   ],
   "source": [
    "bymonth[['sold', 'returned']].plot.bar(figsize=(15,5))\n",
    "plt.ylabel('Amount (GBP)')\n",
    "plt.xlabel('Month')\n",
    "plt.title(\"Evolution of sales\")\n",
    "plt.grid(True)\n",
    "plt.legend()\n",
    "plt.show()"
   ]
  },
  {
   "cell_type": "code",
   "execution_count": 111,
   "metadata": {},
   "outputs": [
    {
     "data": {
      "image/png": "[encoded data removed]",
      "text/plain": [
       "<Figure size 1500x500 with 2 Axes>"
      ]
     },
     "metadata": {},
     "output_type": "display_data"
    }
   ],
   "source": [
    "fig, ax1 = plt.subplots(figsize=(15,5))\n",
    "ax2 = plt.twinx()\n",
    "ax1.plot(bymonth.index, bymonth['sold'], label='Amount')\n",
    "ax1.plot(bymonth.index, bymonth['sold_moving_avg'], label='Amount moving average')\n",
    "ax2.bar(bymonth.index, bymonth['nunique'], width=8, label='Volume', alpha=0.25)\n",
    "\n",
    "ax1.set_ylabel('Amount (GBP)')\n",
    "ax2.set_ylabel('Volume')\n",
    "plt.xlabel('Month')\n",
    "plt.title(\"Evolution of sales\")\n",
    "plt.grid(True)\n",
    "ax1.legend()\n",
    "ax2.legend()\n",
    "plt.show()"
   ]
  },
  {
   "cell_type": "markdown",
   "metadata": {},
   "source": [
    "## Country"
   ]
  },
  {
   "cell_type": "code",
   "execution_count": null,
   "metadata": {},
   "outputs": [],
   "source": [
    "bycountry = df.groupby('Country').agg()"
   ]
  },
  {
   "cell_type": "markdown",
   "metadata": {},
   "source": [
    "## Products"
   ]
  },
  {
   "cell_type": "code",
   "execution_count": null,
   "metadata": {},
   "outputs": [],
   "source": [
    "fig, ax = plt.subplots(figsize=(15,5))\n",
    "df['ProductName'].value_counts().head(50).plot(kind='bar', ax=ax)\n",
    "plt.title(\"50 most sold products\")\n",
    "plt.show()"
   ]
  }
 ],
 "metadata": {
  "kernelspec": {
   "display_name": "Python 3 (ipykernel)",
   "language": "python",
   "name": "python3"
  },
  "language_info": {
   "codemirror_mode": {
    "name": "ipython",
    "version": 3
   },
   "file_extension": ".py",
   "mimetype": "text/x-python",
   "name": "python",
   "nbconvert_exporter": "python",
   "pygments_lexer": "ipython3",
   "version": "3.10.7"
  }
 },
 "nbformat": 4,
 "nbformat_minor": 4
}
