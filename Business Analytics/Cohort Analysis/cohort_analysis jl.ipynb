{
 "cells": [
  {
   "cell_type": "code",
   "execution_count": 3,
   "metadata": {},
   "outputs": [],
   "source": [
    "using XLSX\n",
    "using DataFrames\n",
    "using Statistics\n",
    "using Dates"
   ]
  },
  {
   "cell_type": "code",
   "execution_count": 4,
   "metadata": {},
   "outputs": [
    {
     "data": {
      "text/html": [
       "<div><div style = \"float: left;\"><span>4712×5 DataFrame</span></div><div style = \"float: right;\"><span style = \"font-style: italic;\">4687 rows omitted</span></div><div style = \"clear: both;\"></div></div><div class = \"data-frame\" style = \"overflow-x: scroll;\"><table class = \"data-frame\" style = \"margin-bottom: 6px;\"><thead><tr class = \"header\"><th class = \"rowNumber\" style = \"font-weight: bold; text-align: right;\">Row</th><th style = \"text-align: left;\">User ID</th><th style = \"text-align: left;\">Join Date</th><th style = \"text-align: left;\">End Date</th><th style = \"text-align: left;\">Plan Type</th><th style = \"text-align: left;\">Revenue</th></tr><tr class = \"subheader headerLastRow\"><th class = \"rowNumber\" style = \"font-weight: bold; text-align: right;\"></th><th title = \"Any\" style = \"text-align: left;\">Any</th><th title = \"Any\" style = \"text-align: left;\">Any</th><th title = \"Any\" style = \"text-align: left;\">Any</th><th title = \"Any\" style = \"text-align: left;\">Any</th><th title = \"Any\" style = \"text-align: left;\">Any</th></tr></thead><tbody><tr><td class = \"rowNumber\" style = \"font-weight: bold; text-align: right;\">1</td><td style = \"text-align: left;\">89950.0</td><td style = \"text-align: left;\">2020-01-25T00:00:00</td><td style = \"text-align: left;\">2021-03-01T00:00:00</td><td style = \"text-align: left;\">Standard Plan</td><td style = \"text-align: left;\">160.0</td></tr><tr><td class = \"rowNumber\" style = \"font-weight: bold; text-align: right;\">2</td><td style = \"text-align: left;\">89951.0</td><td style = \"text-align: left;\">2020-01-26T00:00:00</td><td style = \"text-align: left;\">2020-03-26T00:00:00</td><td style = \"text-align: left;\">Standard Plan</td><td style = \"text-align: left;\">40.0</td></tr><tr><td class = \"rowNumber\" style = \"font-weight: bold; text-align: right;\">3</td><td style = \"text-align: left;\">89952.0</td><td style = \"text-align: left;\">2020-01-26T00:00:00</td><td style = \"text-align: left;\">2023-01-27T00:00:00</td><td style = \"text-align: left;\">Pro Plan</td><td style = \"text-align: left;\">1234.29</td></tr><tr><td class = \"rowNumber\" style = \"font-weight: bold; text-align: right;\">4</td><td style = \"text-align: left;\">89953.0</td><td style = \"text-align: left;\">2020-01-26T00:00:00</td><td style = \"text-align: left;\">2023-01-27T00:00:00</td><td style = \"text-align: left;\">Pro Plan</td><td style = \"text-align: left;\">1234.29</td></tr><tr><td class = \"rowNumber\" style = \"font-weight: bold; text-align: right;\">5</td><td style = \"text-align: left;\">89954.0</td><td style = \"text-align: left;\">2020-01-27T00:00:00</td><td style = \"text-align: left;\">2023-01-27T00:00:00</td><td style = \"text-align: left;\">Pro Plan</td><td style = \"text-align: left;\">1234.29</td></tr><tr><td class = \"rowNumber\" style = \"font-weight: bold; text-align: right;\">6</td><td style = \"text-align: left;\">89955.0</td><td style = \"text-align: left;\">2020-01-27T00:00:00</td><td style = \"text-align: left;\">2023-07-11T00:00:00</td><td style = \"text-align: left;\">Standard Plan</td><td style = \"text-align: left;\">461.714</td></tr><tr><td class = \"rowNumber\" style = \"font-weight: bold; text-align: right;\">7</td><td style = \"text-align: left;\">89958.0</td><td style = \"text-align: left;\">2020-01-29T00:00:00</td><td style = \"text-align: left;\">2020-10-25T00:00:00</td><td style = \"text-align: left;\">Standard Plan</td><td style = \"text-align: left;\">180.0</td></tr><tr><td class = \"rowNumber\" style = \"font-weight: bold; text-align: right;\">8</td><td style = \"text-align: left;\">89984.0</td><td style = \"text-align: left;\">2020-02-03T00:00:00</td><td style = \"text-align: left;\">2020-04-18T00:00:00</td><td style = \"text-align: left;\">Standard Plan</td><td style = \"text-align: left;\">40.0</td></tr><tr><td class = \"rowNumber\" style = \"font-weight: bold; text-align: right;\">9</td><td style = \"text-align: left;\">89986.0</td><td style = \"text-align: left;\">2020-02-06T00:00:00</td><td style = \"text-align: left;\">2023-02-06T00:00:00</td><td style = \"text-align: left;\">Pro Plan</td><td style = \"text-align: left;\">1302.86</td></tr><tr><td class = \"rowNumber\" style = \"font-weight: bold; text-align: right;\">10</td><td style = \"text-align: left;\">89987.0</td><td style = \"text-align: left;\">2020-02-06T00:00:00</td><td style = \"text-align: left;\">2020-08-04T00:00:00</td><td style = \"text-align: left;\">Standard Plan</td><td style = \"text-align: left;\">120.0</td></tr><tr><td class = \"rowNumber\" style = \"font-weight: bold; text-align: right;\">11</td><td style = \"text-align: left;\">89988.0</td><td style = \"text-align: left;\">2020-02-12T00:00:00</td><td style = \"text-align: left;\">2020-03-13T00:00:00</td><td style = \"text-align: left;\">Standard Plan</td><td style = \"text-align: left;\">20.0</td></tr><tr><td class = \"rowNumber\" style = \"font-weight: bold; text-align: right;\">12</td><td style = \"text-align: left;\">89992.0</td><td style = \"text-align: left;\">2020-02-15T00:00:00</td><td style = \"text-align: left;\">2020-03-21T00:00:00</td><td style = \"text-align: left;\">Standard Plan</td><td style = \"text-align: left;\">40.0</td></tr><tr><td class = \"rowNumber\" style = \"font-weight: bold; text-align: right;\">13</td><td style = \"text-align: left;\">89993.0</td><td style = \"text-align: left;\">2020-02-15T00:00:00</td><td style = \"text-align: left;\">2020-11-11T00:00:00</td><td style = \"text-align: left;\">Standard Plan</td><td style = \"text-align: left;\">180.0</td></tr><tr><td style = \"text-align: right;\">&vellip;</td><td style = \"text-align: right;\">&vellip;</td><td style = \"text-align: right;\">&vellip;</td><td style = \"text-align: right;\">&vellip;</td><td style = \"text-align: right;\">&vellip;</td><td style = \"text-align: right;\">&vellip;</td></tr><tr><td class = \"rowNumber\" style = \"font-weight: bold; text-align: right;\">4701</td><td style = \"text-align: left;\">147260.0</td><td style = \"text-align: left;\">2021-01-20T00:00:00</td><td style = \"text-align: left;\">2021-04-01T00:00:00</td><td style = \"text-align: left;\">Standard Plan</td><td style = \"text-align: left;\">20.0</td></tr><tr><td class = \"rowNumber\" style = \"font-weight: bold; text-align: right;\">4702</td><td style = \"text-align: left;\">147261.0</td><td style = \"text-align: left;\">2021-01-20T00:00:00</td><td style = \"text-align: left;\">2021-04-01T00:00:00</td><td style = \"text-align: left;\">Standard Plan</td><td style = \"text-align: left;\">20.0</td></tr><tr><td class = \"rowNumber\" style = \"font-weight: bold; text-align: right;\">4703</td><td style = \"text-align: left;\">147276.0</td><td style = \"text-align: left;\">2021-01-20T00:00:00</td><td style = \"text-align: left;\">2021-04-01T00:00:00</td><td style = \"text-align: left;\">Standard Plan</td><td style = \"text-align: left;\">20.0</td></tr><tr><td class = \"rowNumber\" style = \"font-weight: bold; text-align: right;\">4704</td><td style = \"text-align: left;\">147289.0</td><td style = \"text-align: left;\">2021-01-21T00:00:00</td><td style = \"text-align: left;\">2021-05-24T00:00:00</td><td style = \"text-align: left;\">Pro Plan</td><td style = \"text-align: left;\">101.429</td></tr><tr><td class = \"rowNumber\" style = \"font-weight: bold; text-align: right;\">4705</td><td style = \"text-align: left;\">147292.0</td><td style = \"text-align: left;\">2021-01-21T00:00:00</td><td style = \"text-align: left;\">2021-04-02T00:00:00</td><td style = \"text-align: left;\">Standard Plan</td><td style = \"text-align: left;\">20.0</td></tr><tr><td class = \"rowNumber\" style = \"font-weight: bold; text-align: right;\">4706</td><td style = \"text-align: left;\">147295.0</td><td style = \"text-align: left;\">2021-01-21T00:00:00</td><td style = \"text-align: left;\">2021-05-31T00:00:00</td><td style = \"text-align: left;\">Pro Plan</td><td style = \"text-align: left;\">160.571</td></tr><tr><td class = \"rowNumber\" style = \"font-weight: bold; text-align: right;\">4707</td><td style = \"text-align: left;\">147296.0</td><td style = \"text-align: left;\">2021-01-21T00:00:00</td><td style = \"text-align: left;\">2021-04-02T00:00:00</td><td style = \"text-align: left;\">Pro Plan</td><td style = \"text-align: left;\">34.2857</td></tr><tr><td class = \"rowNumber\" style = \"font-weight: bold; text-align: right;\">4708</td><td style = \"text-align: left;\">147299.0</td><td style = \"text-align: left;\">2021-01-21T00:00:00</td><td style = \"text-align: left;\">2021-05-31T00:00:00</td><td style = \"text-align: left;\">Standard Plan</td><td style = \"text-align: left;\">160.571</td></tr><tr><td class = \"rowNumber\" style = \"font-weight: bold; text-align: right;\">4709</td><td style = \"text-align: left;\">147320.0</td><td style = \"text-align: left;\">2021-01-21T00:00:00</td><td style = \"text-align: left;\">2021-05-31T00:00:00</td><td style = \"text-align: left;\">Standard Plan</td><td style = \"text-align: left;\">160.571</td></tr><tr><td class = \"rowNumber\" style = \"font-weight: bold; text-align: right;\">4710</td><td style = \"text-align: left;\">147323.0</td><td style = \"text-align: left;\">2021-01-21T00:00:00</td><td style = \"text-align: left;\">2021-04-02T00:00:00</td><td style = \"text-align: left;\">Standard Plan</td><td style = \"text-align: left;\">65.7143</td></tr><tr><td class = \"rowNumber\" style = \"font-weight: bold; text-align: right;\">4711</td><td style = \"text-align: left;\">147330.0</td><td style = \"text-align: left;\">2021-01-21T00:00:00</td><td style = \"text-align: left;\">2021-03-05T00:00:00</td><td style = \"text-align: left;\">Standard Plan</td><td style = \"text-align: left;\">20.0</td></tr><tr><td class = \"rowNumber\" style = \"font-weight: bold; text-align: right;\">4712</td><td style = \"text-align: left;\">147334.0</td><td style = \"text-align: left;\">2021-01-21T00:00:00</td><td style = \"text-align: left;\">2022-03-02T00:00:00</td><td style = \"text-align: left;\">Standard Plan</td><td style = \"text-align: left;\">220.857</td></tr></tbody></table></div>"
      ],
      "text/latex": [
       "\\begin{tabular}{r|ccccc}\n",
       "\t& User ID & Join Date & End Date & Plan Type & Revenue\\\\\n",
       "\t\\hline\n",
       "\t& Any & Any & Any & Any & Any\\\\\n",
       "\t\\hline\n",
       "\t1 & 89950.0 & 2020-01-25T00:00:00 & 2021-03-01T00:00:00 & Standard Plan & 160.0 \\\\\n",
       "\t2 & 89951.0 & 2020-01-26T00:00:00 & 2020-03-26T00:00:00 & Standard Plan & 40.0 \\\\\n",
       "\t3 & 89952.0 & 2020-01-26T00:00:00 & 2023-01-27T00:00:00 & Pro Plan & 1234.29 \\\\\n",
       "\t4 & 89953.0 & 2020-01-26T00:00:00 & 2023-01-27T00:00:00 & Pro Plan & 1234.29 \\\\\n",
       "\t5 & 89954.0 & 2020-01-27T00:00:00 & 2023-01-27T00:00:00 & Pro Plan & 1234.29 \\\\\n",
       "\t6 & 89955.0 & 2020-01-27T00:00:00 & 2023-07-11T00:00:00 & Standard Plan & 461.714 \\\\\n",
       "\t7 & 89958.0 & 2020-01-29T00:00:00 & 2020-10-25T00:00:00 & Standard Plan & 180.0 \\\\\n",
       "\t8 & 89984.0 & 2020-02-03T00:00:00 & 2020-04-18T00:00:00 & Standard Plan & 40.0 \\\\\n",
       "\t9 & 89986.0 & 2020-02-06T00:00:00 & 2023-02-06T00:00:00 & Pro Plan & 1302.86 \\\\\n",
       "\t10 & 89987.0 & 2020-02-06T00:00:00 & 2020-08-04T00:00:00 & Standard Plan & 120.0 \\\\\n",
       "\t11 & 89988.0 & 2020-02-12T00:00:00 & 2020-03-13T00:00:00 & Standard Plan & 20.0 \\\\\n",
       "\t12 & 89992.0 & 2020-02-15T00:00:00 & 2020-03-21T00:00:00 & Standard Plan & 40.0 \\\\\n",
       "\t13 & 89993.0 & 2020-02-15T00:00:00 & 2020-11-11T00:00:00 & Standard Plan & 180.0 \\\\\n",
       "\t14 & 89994.0 & 2020-02-16T00:00:00 & 2021-09-15T00:00:00 & Standard Plan & 380.0 \\\\\n",
       "\t15 & 89995.0 & 2020-02-16T00:00:00 & 2020-03-17T00:00:00 & Standard Plan & 20.0 \\\\\n",
       "\t16 & 89996.0 & 2020-02-16T00:00:00 & 2020-03-17T00:00:00 & Standard Plan & 20.0 \\\\\n",
       "\t17 & 89997.0 & 2020-02-17T00:00:00 & 2020-03-18T00:00:00 & Pro Plan & 34.2857 \\\\\n",
       "\t18 & 89998.0 & 2020-02-17T00:00:00 & 2020-03-18T00:00:00 & Pro Plan & 34.2857 \\\\\n",
       "\t19 & 89999.0 & 2020-02-17T00:00:00 & 2020-03-18T00:00:00 & Pro Plan & 34.2857 \\\\\n",
       "\t20 & 90000.0 & 2020-02-17T00:00:00 & 2020-03-18T00:00:00 & Pro Plan & 34.2857 \\\\\n",
       "\t21 & 90001.0 & 2020-02-18T00:00:00 & 2020-06-17T00:00:00 & Standard Plan & 80.0 \\\\\n",
       "\t22 & 90002.0 & 2020-02-19T00:00:00 & 2020-09-16T00:00:00 & Standard Plan & 140.0 \\\\\n",
       "\t23 & 90003.0 & 2020-02-20T00:00:00 & 2020-09-16T00:00:00 & Standard Plan & 140.0 \\\\\n",
       "\t24 & 90004.0 & 2020-02-20T00:00:00 & 2020-04-20T00:00:00 & Pro Plan & 68.5714 \\\\\n",
       "\t$\\dots$ & $\\dots$ & $\\dots$ & $\\dots$ & $\\dots$ & $\\dots$ \\\\\n",
       "\\end{tabular}\n"
      ],
      "text/plain": [
       "\u001b[1m4712×5 DataFrame\u001b[0m\n",
       "\u001b[1m  Row \u001b[0m│\u001b[1m User ID  \u001b[0m\u001b[1m Join Date           \u001b[0m\u001b[1m End Date            \u001b[0m\u001b[1m Plan Type     \u001b[0m\u001b[1m Rev\u001b[0m ⋯\n",
       "      │\u001b[90m Any      \u001b[0m\u001b[90m Any                 \u001b[0m\u001b[90m Any                 \u001b[0m\u001b[90m Any           \u001b[0m\u001b[90m Any\u001b[0m ⋯\n",
       "──────┼─────────────────────────────────────────────────────────────────────────\n",
       "    1 │ 89950.0   2020-01-25T00:00:00  2021-03-01T00:00:00  Standard Plan  160 ⋯\n",
       "    2 │ 89951.0   2020-01-26T00:00:00  2020-03-26T00:00:00  Standard Plan  40.\n",
       "    3 │ 89952.0   2020-01-26T00:00:00  2023-01-27T00:00:00  Pro Plan       123\n",
       "    4 │ 89953.0   2020-01-26T00:00:00  2023-01-27T00:00:00  Pro Plan       123\n",
       "    5 │ 89954.0   2020-01-27T00:00:00  2023-01-27T00:00:00  Pro Plan       123 ⋯\n",
       "    6 │ 89955.0   2020-01-27T00:00:00  2023-07-11T00:00:00  Standard Plan  461\n",
       "    7 │ 89958.0   2020-01-29T00:00:00  2020-10-25T00:00:00  Standard Plan  180\n",
       "    8 │ 89984.0   2020-02-03T00:00:00  2020-04-18T00:00:00  Standard Plan  40.\n",
       "  ⋮   │    ⋮               ⋮                    ⋮                 ⋮            ⋱\n",
       " 4706 │ 147295.0  2021-01-21T00:00:00  2021-05-31T00:00:00  Pro Plan       160 ⋯\n",
       " 4707 │ 147296.0  2021-01-21T00:00:00  2021-04-02T00:00:00  Pro Plan       34.\n",
       " 4708 │ 147299.0  2021-01-21T00:00:00  2021-05-31T00:00:00  Standard Plan  160\n",
       " 4709 │ 147320.0  2021-01-21T00:00:00  2021-05-31T00:00:00  Standard Plan  160\n",
       " 4710 │ 147323.0  2021-01-21T00:00:00  2021-04-02T00:00:00  Standard Plan  65. ⋯\n",
       " 4711 │ 147330.0  2021-01-21T00:00:00  2021-03-05T00:00:00  Standard Plan  20.\n",
       " 4712 │ 147334.0  2021-01-21T00:00:00  2022-03-02T00:00:00  Standard Plan  220\n",
       "\u001b[36m                                                  1 column and 4697 rows omitted\u001b[0m"
      ]
     },
     "metadata": {},
     "output_type": "display_data"
    }
   ],
   "source": [
    "table = XLSX.readtable(\"Data For Cohorts Analysis.xlsx\", \"raw data\")\n",
    "df = DataFrame(table...)"
   ]
  },
  {
   "cell_type": "code",
   "execution_count": null,
   "metadata": {},
   "outputs": [],
   "source": [
    "df[\"Join Date\"]"
   ]
  }
 ],
 "metadata": {
  "kernelspec": {
   "display_name": "Julia 1.8.5",
   "language": "julia",
   "name": "julia-1.8"
  },
  "language_info": {
   "file_extension": ".jl",
   "mimetype": "application/julia",
   "name": "julia",
   "version": "1.8.5"
  },
  "orig_nbformat": 4
 },
 "nbformat": 4,
 "nbformat_minor": 2
}
